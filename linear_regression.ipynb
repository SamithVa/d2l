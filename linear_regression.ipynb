{
 "cells": [
  {
   "cell_type": "code",
   "execution_count": 1,
   "metadata": {},
   "outputs": [],
   "source": [
    "import numpy as np\n",
    "import torch\n",
    "from torch.utils import data\n",
    "from d2l import torch as d2l"
   ]
  },
  {
   "cell_type": "code",
   "execution_count": 2,
   "metadata": {},
   "outputs": [],
   "source": [
    "true_w = torch.tensor([2,-3.4])\n",
    "true_b = 4.2\n",
    "features, labels = d2l.synthetic_data(true_w, true_b, 100)"
   ]
  },
  {
   "cell_type": "markdown",
   "metadata": {},
   "source": [
    "### Load Dataset"
   ]
  },
  {
   "cell_type": "code",
   "execution_count": 3,
   "metadata": {},
   "outputs": [
    {
     "data": {
      "text/plain": [
       "[tensor([[-0.2737, -0.0764],\n",
       "         [-1.6223,  0.5356],\n",
       "         [ 0.2662, -0.8996],\n",
       "         [-1.0217,  1.5210],\n",
       "         [ 0.2009,  0.9339],\n",
       "         [ 0.2648, -0.8644],\n",
       "         [ 0.4594,  0.5204],\n",
       "         [ 1.1733, -0.1749],\n",
       "         [ 1.1813, -0.8230],\n",
       "         [ 1.2561, -0.6371]]),\n",
       " tensor([[ 3.9151],\n",
       "         [-0.8650],\n",
       "         [ 7.7799],\n",
       "         [-3.0034],\n",
       "         [ 1.4205],\n",
       "         [ 7.6753],\n",
       "         [ 3.3603],\n",
       "         [ 7.1291],\n",
       "         [ 9.3724],\n",
       "         [ 8.8834]])]"
      ]
     },
     "execution_count": 3,
     "metadata": {},
     "output_type": "execute_result"
    }
   ],
   "source": [
    "def load_array(data_arrays, batch_size, is_train=True):\n",
    "    dataset = data.TensorDataset(*data_arrays)\n",
    "    return data.DataLoader(dataset, batch_size, shuffle=is_train)\n",
    "batch_size = 10\n",
    "data_iter = load_array((features, labels), batch_size)\n",
    "next(iter(data_iter))"
   ]
  },
  {
   "cell_type": "markdown",
   "metadata": {},
   "source": [
    "### Model"
   ]
  },
  {
   "cell_type": "code",
   "execution_count": 4,
   "metadata": {},
   "outputs": [],
   "source": [
    "from torch import nn\n",
    "\n",
    "net = nn.Sequential(nn.Linear(2,1))"
   ]
  },
  {
   "cell_type": "code",
   "execution_count": 5,
   "metadata": {},
   "outputs": [
    {
     "data": {
      "text/plain": [
       "tensor([0.])"
      ]
     },
     "execution_count": 5,
     "metadata": {},
     "output_type": "execute_result"
    }
   ],
   "source": [
    "# initialize weight\n",
    "net[0].weight.data.normal_(0, 0.01)\n",
    "net[0].bias.data.fill_(0)"
   ]
  },
  {
   "cell_type": "code",
   "execution_count": 6,
   "metadata": {},
   "outputs": [],
   "source": [
    "# loss function\n",
    "loss = nn.HuberLoss()"
   ]
  },
  {
   "cell_type": "code",
   "execution_count": 7,
   "metadata": {},
   "outputs": [],
   "source": [
    "# optimizer\n",
    "trainer = torch.optim.SGD(net.parameters(), lr=3e-1)"
   ]
  },
  {
   "cell_type": "markdown",
   "metadata": {},
   "source": [
    "### Training"
   ]
  },
  {
   "cell_type": "code",
   "execution_count": 8,
   "metadata": {},
   "outputs": [
    {
     "name": "stdout",
     "output_type": "stream",
     "text": [
      "epoch 1, loss 2.281389\n",
      "epoch 2, loss 0.292488\n",
      "epoch 3, loss 0.000197\n"
     ]
    }
   ],
   "source": [
    "num_epochs = 3\n",
    "for epoch in range(num_epochs):\n",
    "    for X, y in data_iter:\n",
    "        l = loss(net(X), y)\n",
    "        trainer.zero_grad()\n",
    "        l.backward()\n",
    "        trainer.step()\n",
    "    l = loss(net(features), labels)\n",
    "    print(f'epoch {epoch + 1}, loss {l:f}')"
   ]
  },
  {
   "cell_type": "code",
   "execution_count": 9,
   "metadata": {},
   "outputs": [
    {
     "data": {
      "text/plain": [
       "tensor([4.1901])"
      ]
     },
     "execution_count": 9,
     "metadata": {},
     "output_type": "execute_result"
    }
   ],
   "source": [
    "net[0].bias.detach()"
   ]
  },
  {
   "cell_type": "markdown",
   "metadata": {},
   "source": [
    "### Plot the estimation error"
   ]
  },
  {
   "cell_type": "code",
   "execution_count": 11,
   "metadata": {},
   "outputs": [
    {
     "name": "stdout",
     "output_type": "stream",
     "text": [
      "num_data : 5\n",
      "epoch 1, loss 5.130519\n",
      "epoch 2, loss 4.744869\n",
      "epoch 3, loss 4.359220\n",
      "num_data : 10\n",
      "epoch 1, loss 3.861867\n",
      "epoch 2, loss 3.650216\n",
      "epoch 3, loss 3.444724\n",
      "num_data : 20\n",
      "epoch 1, loss 4.561119\n",
      "epoch 2, loss 3.942480\n",
      "epoch 3, loss 3.326511\n",
      "num_data : 40\n",
      "epoch 1, loss 3.703588\n",
      "epoch 2, loss 2.699467\n",
      "epoch 3, loss 1.764242\n",
      "num_data : 80\n",
      "epoch 1, loss 2.550804\n",
      "epoch 2, loss 1.140921\n",
      "epoch 3, loss 0.098840\n",
      "num_data : 160\n",
      "epoch 1, loss 0.733838\n",
      "epoch 2, loss 0.000062\n",
      "epoch 3, loss 0.000056\n",
      "num_data : 320\n",
      "epoch 1, loss 0.000673\n",
      "epoch 2, loss 0.000044\n",
      "epoch 3, loss 0.000045\n",
      "num_data : 640\n",
      "epoch 1, loss 0.000059\n",
      "epoch 2, loss 0.000055\n",
      "epoch 3, loss 0.000058\n",
      "num_data : 1280\n",
      "epoch 1, loss 0.000055\n",
      "epoch 2, loss 0.000051\n",
      "epoch 3, loss 0.000051\n",
      "num_data : 2560\n",
      "epoch 1, loss 0.000053\n",
      "epoch 2, loss 0.000049\n",
      "epoch 3, loss 0.000059\n"
     ]
    }
   ],
   "source": [
    "weights = []\n",
    "bias = []\n",
    "num_datas = [5 * 2 ** i for i in range(10)]\n",
    "for n in num_datas:\n",
    "    print(f'num_data : {n}')\n",
    "    features, labels = d2l.synthetic_data(true_w, true_b, n)\n",
    "    batch_size = 10\n",
    "    data_iter = load_array((features, labels), batch_size)  \n",
    "\n",
    "    net = nn.Sequential(nn.Linear(2,1))\n",
    "    # initialize weight\n",
    "    net[0].weight.data.normal_(0, 0.01)\n",
    "    net[0].bias.data.fill_(0)\n",
    "    trainer = torch.optim.SGD(net.parameters(), lr=3e-1)\n",
    "\n",
    "    num_epochs = 3\n",
    "    for epoch in range(num_epochs):\n",
    "        for X, y in data_iter:\n",
    "            l = loss(net(X), y)\n",
    "            trainer.zero_grad()\n",
    "            l.backward()\n",
    "            trainer.step()\n",
    "        l = loss(net(features), labels)\n",
    "        print(f'epoch {epoch + 1}, loss {l:f}')\n",
    "    \n",
    "    weights.append(net[0].weight.detach())\n",
    "    bias.append(net[0].bias.detach())"
   ]
  },
  {
   "cell_type": "code",
   "execution_count": 21,
   "metadata": {},
   "outputs": [
    {
     "data": {
      "text/plain": [
       "[tensor([ 0.4359, -0.2370]),\n",
       " tensor([ 0.0463, -0.3339]),\n",
       " tensor([ 1.0093, -0.8524]),\n",
       " tensor([ 0.5241, -2.0940]),\n",
       " tensor([ 1.6429, -3.2081]),\n",
       " tensor([ 2.0007, -3.4000]),\n",
       " tensor([ 2.0021, -3.4006]),\n",
       " tensor([ 1.9992, -3.3980]),\n",
       " tensor([ 2.0015, -3.3997]),\n",
       " tensor([ 1.9963, -3.4023])]"
      ]
     },
     "execution_count": 21,
     "metadata": {},
     "output_type": "execute_result"
    }
   ],
   "source": [
    "weights = [weight.squeeze() for weight in weights]\n",
    "weights"
   ]
  },
  {
   "cell_type": "code",
   "execution_count": 28,
   "metadata": {},
   "outputs": [
    {
     "data": {
      "text/plain": [
       "[tensor([-1.5641,  3.1630]),\n",
       " tensor([-1.9537,  3.0661]),\n",
       " tensor([-0.9907,  2.5476]),\n",
       " tensor([-1.4759,  1.3060]),\n",
       " tensor([-0.3571,  0.1919]),\n",
       " tensor([6.5470e-04, 3.3140e-05]),\n",
       " tensor([ 0.0021, -0.0006]),\n",
       " tensor([-0.0008,  0.0020]),\n",
       " tensor([0.0015, 0.0003]),\n",
       " tensor([-0.0037, -0.0023])]"
      ]
     },
     "execution_count": 28,
     "metadata": {},
     "output_type": "execute_result"
    }
   ],
   "source": [
    "diff_w = [weight - true_w for weight in weights]\n",
    "diff_w"
   ]
  },
  {
   "cell_type": "code",
   "execution_count": 23,
   "metadata": {},
   "outputs": [
    {
     "data": {
      "text/plain": [
       "(tensor([ 2.0000, -3.4000]), 4.2)"
      ]
     },
     "execution_count": 23,
     "metadata": {},
     "output_type": "execute_result"
    }
   ],
   "source": [
    "true_w, true_b"
   ]
  },
  {
   "cell_type": "code",
   "execution_count": 17,
   "metadata": {},
   "outputs": [
    {
     "ename": "ValueError",
     "evalue": "only one element tensors can be converted to Python scalars",
     "output_type": "error",
     "traceback": [
      "\u001b[1;31m---------------------------------------------------------------------------\u001b[0m",
      "\u001b[1;31mValueError\u001b[0m                                Traceback (most recent call last)",
      "Cell \u001b[1;32mIn[17], line 3\u001b[0m\n\u001b[0;32m      1\u001b[0m \u001b[38;5;28;01mfrom\u001b[39;00m\u001b[38;5;250m \u001b[39m\u001b[38;5;21;01mmatplotlib\u001b[39;00m\u001b[38;5;21;01m.\u001b[39;00m\u001b[38;5;21;01mpyplot\u001b[39;00m\u001b[38;5;250m \u001b[39m\u001b[38;5;28;01mimport\u001b[39;00m plot\n\u001b[1;32m----> 3\u001b[0m weights_tensor \u001b[38;5;241m=\u001b[39m \u001b[43mtorch\u001b[49m\u001b[38;5;241;43m.\u001b[39;49m\u001b[43mas_tensor\u001b[49m\u001b[43m(\u001b[49m\u001b[43mweights\u001b[49m\u001b[43m)\u001b[49m\n",
      "\u001b[1;31mValueError\u001b[0m: only one element tensors can be converted to Python scalars"
     ]
    }
   ],
   "source": [
    "from matplotlib.pyplot import plot\n",
    "\n",
    "weights_tensor = torch.as_tensor(weights)"
   ]
  },
  {
   "cell_type": "code",
   "execution_count": null,
   "metadata": {},
   "outputs": [],
   "source": []
  }
 ],
 "metadata": {
  "kernelspec": {
   "display_name": ".venv",
   "language": "python",
   "name": "python3"
  },
  "language_info": {
   "codemirror_mode": {
    "name": "ipython",
    "version": 3
   },
   "file_extension": ".py",
   "mimetype": "text/x-python",
   "name": "python",
   "nbconvert_exporter": "python",
   "pygments_lexer": "ipython3",
   "version": "3.10.17"
  }
 },
 "nbformat": 4,
 "nbformat_minor": 2
}
